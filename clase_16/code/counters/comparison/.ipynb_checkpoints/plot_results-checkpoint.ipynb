{
 "cells": [
  {
   "cell_type": "markdown",
   "id": "891f6e8d",
   "metadata": {},
   "source": [
    "# Comparación de Contadores: Preciso vs Aproximado\n",
    "\n",
    "Este notebook compara el rendimiento entre los contadores preciso y aproximado,\n",
    "graficando el tiempo de ejecución vs número de threads para cada tipo."
   ]
  },
  {
   "cell_type": "code",
   "execution_count": null,
   "id": "b70cceb5",
   "metadata": {},
   "outputs": [],
   "source": [
    "import pandas as pd\n",
    "import matplotlib.pyplot as plt\n",
    "\n",
    "# Leer el CSV\n",
    "df = pd.read_csv('results.csv')\n",
    "\n",
    "# Separar datos por tipo de contador\n",
    "precise = df[df['CounterType'] == 'Precise']\n",
    "approximate = df[df['CounterType'] == 'Approximate']\n",
    "\n",
    "# Crear la gráfica\n",
    "plt.figure(figsize=(10,6))\n",
    "\n",
    "# Graficar ambas líneas\n",
    "plt.plot(precise['Threads'], precise['Time(s)'], 'b-o', label='Contador Preciso')\n",
    "plt.plot(approximate['Threads'], approximate['Time(s)'], 'r-o', label='Contador Aproximado')\n",
    "\n",
    "# Configurar la gráfica\n",
    "plt.xlabel('Número de Threads')\n",
    "plt.ylabel('Tiempo (segundos)')\n",
    "plt.title('Comparación de Rendimiento: Contador Preciso vs Aproximado')\n",
    "plt.grid(True)\n",
    "plt.legend()\n",
    "\n",
    "# Mostrar todos los valores de threads en el eje X\n",
    "plt.xticks(df['Threads'].unique())\n",
    "\n",
    "# Ajustar márgenes\n",
    "plt.tight_layout()\n",
    "\n",
    "# Mostrar la gráfica\n",
    "plt.show()\n",
    "\n",
    "# Mostrar los datos en forma tabular\n",
    "display(df.pivot(index='Threads', columns='CounterType', values='Time(s)'))"
   ]
  }
 ],
 "metadata": {
  "kernelspec": {
   "display_name": "Python 3 (ipykernel)",
   "language": "python",
   "name": "python3"
  },
  "language_info": {
   "codemirror_mode": {
    "name": "ipython",
    "version": 3
   },
   "file_extension": ".py",
   "mimetype": "text/x-python",
   "name": "python",
   "nbconvert_exporter": "python",
   "pygments_lexer": "ipython3",
   "version": "3.12.7"
  }
 },
 "nbformat": 4,
 "nbformat_minor": 5
}
